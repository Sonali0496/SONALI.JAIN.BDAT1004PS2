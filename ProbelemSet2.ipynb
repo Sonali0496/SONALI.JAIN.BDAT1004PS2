{
 "cells": [
  {
   "cell_type": "markdown",
   "metadata": {},
   "source": [
    "# Question:1\n"
   ]
  },
  {
   "cell_type": "code",
   "execution_count": 9,
   "metadata": {},
   "outputs": [],
   "source": [
    "a = 0\n",
    "\n",
    "def b():\n",
    "    global a\n",
    "    a = c(a)\n",
    "\n",
    "def c(a):\n",
    "\treturn a + 2"
   ]
  },
  {
   "cell_type": "code",
   "execution_count": 10,
   "metadata": {},
   "outputs": [],
   "source": [
    "b()"
   ]
  },
  {
   "cell_type": "code",
   "execution_count": 11,
   "metadata": {},
   "outputs": [],
   "source": [
    "b()"
   ]
  },
  {
   "cell_type": "code",
   "execution_count": 12,
   "metadata": {},
   "outputs": [],
   "source": [
    "b()"
   ]
  },
  {
   "cell_type": "code",
   "execution_count": 13,
   "metadata": {},
   "outputs": [
    {
     "data": {
      "text/plain": [
       "6"
      ]
     },
     "execution_count": 13,
     "metadata": {},
     "output_type": "execute_result"
    }
   ],
   "source": [
    "a"
   ]
  },
  {
   "cell_type": "markdown",
   "metadata": {},
   "source": [
    "# a = 6 just because a is used as global variable so only first time \n",
    "# it is having 0 value and then increment by 2 \n",
    "# each of the time due to global access same a object is used"
   ]
  },
  {
   "cell_type": "markdown",
   "metadata": {},
   "source": [
    "# Question:2\n"
   ]
  },
  {
   "cell_type": "code",
   "execution_count": 38,
   "metadata": {},
   "outputs": [],
   "source": [
    "def fileLength(fileName):\n",
    "\ttry:\n",
    "\t\tnum_lines = sum(1 for line in open(fileName))\n",
    "\t\tprint(num_lines)\n",
    "\texcept Exception:\n",
    "\t\tprint('File {0} not found.'.format(fileName))"
   ]
  },
  {
   "cell_type": "code",
   "execution_count": 40,
   "metadata": {},
   "outputs": [
    {
     "name": "stdout",
     "output_type": "stream",
     "text": [
      "1\n",
      "File btype.txt not found.\n"
     ]
    }
   ],
   "source": [
    "fileLength('bloodtype.txt')\n",
    "fileLength('btype.txt')"
   ]
  },
  {
   "cell_type": "markdown",
   "metadata": {},
   "source": [
    "#Question:3"
   ]
  },
  {
   "cell_type": "code",
   "execution_count": 16,
   "metadata": {},
   "outputs": [],
   "source": [
    "class Marsupial():\n",
    "\n",
    "\tdata = list()\n",
    "\n",
    "\tdef put_in_pouch(self, value):\n",
    "\t\tself.data.append(value)\n",
    "\n",
    "\tdef pouch_contents(self):\n",
    "\t\tprint(self.data)"
   ]
  },
  {
   "cell_type": "code",
   "execution_count": 17,
   "metadata": {},
   "outputs": [
    {
     "name": "stdout",
     "output_type": "stream",
     "text": [
      "['doll', 'firetruck', 'kitten']\n"
     ]
    }
   ],
   "source": [
    "m = Marsupial()\n",
    "m.put_in_pouch('doll')\n",
    "m.put_in_pouch('firetruck')\n",
    "m.put_in_pouch('kitten')\n",
    "\n",
    "m.pouch_contents()"
   ]
  },
  {
   "cell_type": "code",
   "execution_count": 18,
   "metadata": {},
   "outputs": [],
   "source": [
    "class Kangaroo(Marsupial):\n",
    "\n",
    "\tdef __init__(self, x, y):\n",
    "\t\tself.x = x\n",
    "\t\tself.y = y\n",
    "\n",
    "\tdef jump(self, dx, dy):\n",
    "\t\tself.x += dx\n",
    "\t\tself.y += dy\n",
    "\n",
    "\tdef __str__(self):\n",
    "\t\treturn('I am a Kangaroo located at coordinates ({0},{1})'.format(self.x, self.y))"
   ]
  },
  {
   "cell_type": "code",
   "execution_count": 19,
   "metadata": {},
   "outputs": [
    {
     "name": "stdout",
     "output_type": "stream",
     "text": [
      "I am a Kangaroo located at coordinates (0,0)\n",
      "['doll', 'firetruck', 'kitten', 'doll', 'firetruck', 'kitten']\n",
      "I am a Kangaroo located at coordinates (3,0)\n"
     ]
    }
   ],
   "source": [
    "k = Kangaroo(0,0)\n",
    "print(k)\n",
    "k.put_in_pouch('doll')\n",
    "k.put_in_pouch('firetruck')\n",
    "k.put_in_pouch('kitten')\n",
    "k.pouch_contents()\n",
    "k.jump(1,0)\n",
    "k.jump(1,0)\n",
    "k.jump(1,0)\n",
    "print(k)\n"
   ]
  },
  {
   "cell_type": "markdown",
   "metadata": {},
   "source": [
    "#Question:4"
   ]
  },
  {
   "cell_type": "code",
   "execution_count": 91,
   "metadata": {},
   "outputs": [],
   "source": [
    "class Mortgage(Frame):\n",
    "    \n",
    "    def __init__(self, master):\n",
    "        Frame.__init__(self, master)\n",
    "        labelLoanAmount =Label(self,\n",
    "                                    relief = GROOVE,\n",
    "                                    padx=10,\n",
    "                                     pady=10,\n",
    "                                    width=5,\n",
    "                                    text= 'Loan Amount:')\n",
    "        labelLoanAmount.grid(row=1, column=0, columnspan=4, sticky=W+E)\n",
    "\n",
    "        entryLoanAmount= Entry(self)\n",
    "        entryLoanAmount.grid(row=1, column=4, columnspan=4, sticky=W+E)\n",
    "\n",
    "\n",
    "        labelInterestRate =Label(self,\n",
    "                            relief = GROOVE,\n",
    "                            padx=15,\n",
    "                            text= 'Interest Rate:')\n",
    "        labelInterestRate.grid(row=2, column=0, columnspan=4, sticky=W+E)\n",
    "\n",
    "        entryInterestRate= Entry(self)\n",
    "        entryInterestRate.grid(row=2, column=4, columnspan=4, sticky=W+E)\n",
    "\n",
    "\n",
    "        labelLoanTerms =Label(self,\n",
    "                            relief =GROOVE,\n",
    "                            padx=15,\n",
    "                            text= 'Loan Terms:')\n",
    "        labelLoanTerms.grid(row=3, column=0, columnspan=4, sticky=W+E)\n",
    "\n",
    "        entryLoanTerms= Entry(self)\n",
    "        entryLoanTerms.grid(row=3, column=4, columnspan=4, sticky=W+E)\n",
    "\n",
    "\n",
    "        buttonComputeMortage =Button(self,\n",
    "                            relief = GROOVE,\n",
    "                            padx=15,\n",
    "                            text= 'Compute Mortgage')\n",
    "        buttonComputeMortage.grid(row=4, column=0, columnspan=4, sticky=W+E)\n",
    "        entryComputeMortage= Entry(self)\n",
    "        entryComputeMortage.grid(row=4, column=4, columnspan=4, sticky=W+E)\n"
   ]
  },
  {
   "cell_type": "code",
   "execution_count": 92,
   "metadata": {},
   "outputs": [],
   "source": [
    "class Calculator(Frame):\n",
    "    \n",
    "    def __init__(self, master):\n",
    "        Frame.__init__(self, master)\n",
    "        \n",
    "       \n",
    "        entryLoanAmount= Entry(self)\n",
    "        entryLoanAmount.grid(row=0, column=0, columnspan=4,pady =10, sticky=W+E)\n",
    "        \n",
    "        num = [['MC',  'M+', 'M-', 'MR'],\n",
    "           ['C', '\\u221A','x\\u00b2','+'],\n",
    "           ['7','8','9','-'],\n",
    "           ['4', '5','6','*'],\n",
    "           ['1','2', '3', '/'],\n",
    "           ['0', '.', '+-', '=']\n",
    "          ]\n",
    "        for i in range(6):\n",
    "            for j in range(4):\n",
    "                button= Button(self,\n",
    "                            relief =GROOVE,\n",
    "                            padx=10,\n",
    "                             pady=10,\n",
    "                            width=10,\n",
    "                            text= num[i][j])\n",
    "                button.grid(row=i+1, column=j)"
   ]
  },
  {
   "cell_type": "code",
   "execution_count": 93,
   "metadata": {},
   "outputs": [],
   "source": [
    "from tkinter import *\n",
    "root = Tk()\n",
    "\n",
    "mortgage = Mortgage(root)\n",
    "mortgage.pack(side=LEFT)\n",
    "\n",
    "calculator = Calculator(root)\n",
    "calculator.pack(side=RIGHT)\n",
    "\n",
    "\n",
    "root.mainloop()"
   ]
  },
  {
   "cell_type": "markdown",
   "metadata": {},
   "source": [
    "#Question:5"
   ]
  },
  {
   "cell_type": "code",
   "execution_count": 41,
   "metadata": {},
   "outputs": [],
   "source": [
    "def collatz(number):\n",
    "   try:\n",
    "       num = abs(int(number))\n",
    "           \n",
    "       if num == 1:\n",
    "        \n",
    "           print(num)\n",
    "           \n",
    "      \n",
    "       elif num%2 == 0:\n",
    "           print(num)\n",
    "           num = int(num / 2)\n",
    "           collatz(num)\n",
    "        #x/2 if the num is even\n",
    "\n",
    "       \n",
    "       else:\n",
    "           print(num)\n",
    "           num = int((3 * num) + 1)\n",
    "           collatz(num)\n",
    "        #3x+1 if the num is odd\n",
    "    \n",
    "   except ValueError:\n",
    "       \n",
    "       print(\"Please enter a positive  integer nUmber for the collatz sequence\")\n",
    "  \n"
   ]
  },
  {
   "cell_type": "code",
   "execution_count": 43,
   "metadata": {},
   "outputs": [
    {
     "name": "stdout",
     "output_type": "stream",
     "text": [
      "10\n",
      "5\n",
      "16\n",
      "8\n",
      "4\n",
      "2\n",
      "1\n"
     ]
    }
   ],
   "source": [
    "collatz(10)"
   ]
  },
  {
   "cell_type": "markdown",
   "metadata": {},
   "source": [
    "#Question:6"
   ]
  },
  {
   "cell_type": "code",
   "execution_count": null,
   "metadata": {},
   "outputs": [],
   "source": [
    "def binary(x):\n",
    "\tval = '{0:08b}'.format(x)\n",
    "\tprint(int(val))"
   ]
  },
  {
   "cell_type": "code",
   "execution_count": 27,
   "metadata": {},
   "outputs": [
    {
     "name": "stdout",
     "output_type": "stream",
     "text": [
      "11\n"
     ]
    }
   ],
   "source": [
    "binary(3)"
   ]
  },
  {
   "cell_type": "markdown",
   "metadata": {},
   "source": [
    "#Question:7"
   ]
  },
  {
   "cell_type": "code",
   "execution_count": 78,
   "metadata": {},
   "outputs": [],
   "source": [
    "from html.parser import HTMLParser\n",
    "class HTMLParser(HTMLParser):\n",
    "    info = False\n",
    "    def __init__(self):\n",
    "        HTMLParser.__init__(self)\n",
    "        self.doc = False\n",
    "        self.dataName=''\n",
    "\n",
    "    def start_tag(self, tag, attributes):\n",
    "        if tag == 'h1' or tag=='h2' or tag=='h3' or tag=='h4' or tag=='h5' or tag=='h6':\n",
    "            self.doc = True\n",
    "            self.dataName = tag\n",
    "    def end_tag(self, tag):\n",
    "        self.doc= False\n",
    "\n",
    "    def datahandler(self, data):\n",
    "        if self.doc:\n",
    "            if self.recordName == 'h1':\n",
    "                print (data)\n",
    "            elif self.recordName == 'h2':\n",
    "                print('\\t{}'.format(data))\n",
    "            elif self.recordName == 'h3':\n",
    "                print('\\t\\t{}'.format(data))\n",
    "            elif self.recordName == 'h4':\n",
    "                print('\\t\\t\\t{}'.format(data))\n",
    "            elif self.recordName == 'h5':\n",
    "                print('\\t\\t\\t\\t{}'.format(data))\n",
    "            elif self.recordName == 'h6':\n",
    "                print('\\t\\t\\t\\t\\t{}'.format(data))\n",
    "                    \n"
   ]
  },
  {
   "cell_type": "code",
   "execution_count": null,
   "metadata": {},
   "outputs": [],
   "source": [
    "path ='C:\\\\Users\\\\15146\\\\Desktop\\\\Georgian\\\\1004Data Programming\\\\w3c.html'\n",
    "toc = ''\n",
    "try:\n",
    "#   opening a file in read mode \n",
    "    infile = open(path, 'r')\n",
    "    toc = infile.read()   \n",
    "    infile.close()\n",
    "except FileNotFoundError:\n",
    "    print('File '+ fileName+  ' not found.')\n",
    "\n",
    "parser = HTMLParser()\n",
    "parser.feed(toc)\n"
   ]
  },
  {
   "cell_type": "markdown",
   "metadata": {},
   "source": [
    "#Question:8"
   ]
  },
  {
   "cell_type": "code",
   "execution_count": 72,
   "metadata": {},
   "outputs": [],
   "source": [
    "from html.parser import *\n",
    "from urllib.request import *\n",
    "\n",
    "\n",
    "\n",
    "def inputs(url, depth, indent):\n",
    "    toc = urlopen(url).read().decode()\n",
    "    collection = Collection(url,depth)\n",
    "    collection.feed(toc)\n",
    "    urls=collection.getLinks()\n",
    "\n",
    "    print(\"{}{}\".format(indent * ' ', url))\n",
    "    for link in urls:\n",
    "        if depth > 0:\n",
    "            webdir(link, depth - 1, indent + + 4)\n",
    "    \n",
    "    return urls"
   ]
  },
  {
   "cell_type": "code",
   "execution_count": 73,
   "metadata": {},
   "outputs": [],
   "source": [
    "from html.parser import HTMLParser\n",
    "from urllib.parse import urljoin\n",
    "\n",
    "class Collection(HTMLParser):\n",
    "    \n",
    "    def __init__(self, url,depth):\n",
    "        HTMLParser.__init__(self)\n",
    "        self.url = url\n",
    "        self.depth = depth\n",
    "        self.links=[]\n",
    "        self.count = 0\n",
    "\n",
    "\n",
    "    def start_tag(self, tag, attribute):\n",
    "        if tag == 'a':\n",
    "            for attribute in attributes:\n",
    "                if attribute[0] == 'href':\n",
    "                    absolute =  urljoin(self.url, attribute[1])\n",
    "                    if(absolute[:4] == 'http'):\n",
    "                        if (self.depth > self.count):\n",
    "                            self.links.append(absolute)\n",
    "                            self.count = self.count + 1\n",
    "           \n",
    "    \n",
    "    def getLinks(self):\n",
    "        return self.links"
   ]
  },
  {
   "cell_type": "code",
   "execution_count": 74,
   "metadata": {},
   "outputs": [],
   "source": [
    "\n",
    "strike = set()\n",
    "def webdir(url, depth, indent):\n",
    "    \n",
    "    global strike\n",
    "    strike.add(url)\n",
    "    \n",
    "    websites =  inputs(url,depth, indent)\n",
    "    \n",
    "    for website in websites:\n",
    "        if website not in strike:\n",
    "            try:\n",
    "                crawl1(website,depth,indent)\n",
    "            except:\n",
    "                pass\n"
   ]
  },
  {
   "cell_type": "code",
   "execution_count": 75,
   "metadata": {},
   "outputs": [
    {
     "name": "stdout",
     "output_type": "stream",
     "text": [
      "https://www.w3schools.com/\n",
      " https://www.w3schools.com/bootstrap/bootstrap_ver.asp\n"
     ]
    }
   ],
   "source": [
    "webdir('https://www.w3schools.com/', 2, 0)\n",
    "webdir(\"https://www.w3schools.com/bootstrap/bootstrap_ver.asp\",3,1)"
   ]
  },
  {
   "cell_type": "markdown",
   "metadata": {},
   "source": [
    "#QUESTION-9"
   ]
  },
  {
   "cell_type": "code",
   "execution_count": 47,
   "metadata": {},
   "outputs": [
    {
     "data": {
      "text/plain": [
       "['Requirement already satisfied: ipython-sql in c:\\\\users\\\\15146\\\\anaconda3\\\\lib\\\\site-packages (0.4.0)',\n",
       " 'Requirement already satisfied: six in c:\\\\users\\\\15146\\\\anaconda3\\\\lib\\\\site-packages (from ipython-sql) (1.14.0)',\n",
       " 'Requirement already satisfied: prettytable<1 in c:\\\\users\\\\15146\\\\anaconda3\\\\lib\\\\site-packages (from ipython-sql) (0.7.2)',\n",
       " 'Requirement already satisfied: sqlparse in c:\\\\users\\\\15146\\\\anaconda3\\\\lib\\\\site-packages (from ipython-sql) (0.3.1)',\n",
       " 'Requirement already satisfied: ipython-genutils>=0.1.0 in c:\\\\users\\\\15146\\\\anaconda3\\\\lib\\\\site-packages (from ipython-sql) (0.2.0)',\n",
       " 'Requirement already satisfied: ipython>=1.0 in c:\\\\users\\\\15146\\\\anaconda3\\\\lib\\\\site-packages (from ipython-sql) (7.12.0)',\n",
       " 'Requirement already satisfied: sqlalchemy>=0.6.7 in c:\\\\users\\\\15146\\\\anaconda3\\\\lib\\\\site-packages (from ipython-sql) (1.3.13)',\n",
       " 'Requirement already satisfied: backcall in c:\\\\users\\\\15146\\\\anaconda3\\\\lib\\\\site-packages (from ipython>=1.0->ipython-sql) (0.1.0)',\n",
       " 'Requirement already satisfied: pickleshare in c:\\\\users\\\\15146\\\\anaconda3\\\\lib\\\\site-packages (from ipython>=1.0->ipython-sql) (0.7.5)',\n",
       " 'Requirement already satisfied: prompt-toolkit!=3.0.0,!=3.0.1,<3.1.0,>=2.0.0 in c:\\\\users\\\\15146\\\\anaconda3\\\\lib\\\\site-packages (from ipython>=1.0->ipython-sql) (3.0.3)',\n",
       " 'Requirement already satisfied: jedi>=0.10 in c:\\\\users\\\\15146\\\\anaconda3\\\\lib\\\\site-packages (from ipython>=1.0->ipython-sql) (0.14.1)',\n",
       " 'Requirement already satisfied: setuptools>=18.5 in c:\\\\users\\\\15146\\\\anaconda3\\\\lib\\\\site-packages (from ipython>=1.0->ipython-sql) (45.2.0.post20200210)',\n",
       " 'Requirement already satisfied: colorama; sys_platform == \"win32\" in c:\\\\users\\\\15146\\\\anaconda3\\\\lib\\\\site-packages (from ipython>=1.0->ipython-sql) (0.4.3)',\n",
       " 'Requirement already satisfied: pygments in c:\\\\users\\\\15146\\\\anaconda3\\\\lib\\\\site-packages (from ipython>=1.0->ipython-sql) (2.5.2)',\n",
       " 'Requirement already satisfied: decorator in c:\\\\users\\\\15146\\\\anaconda3\\\\lib\\\\site-packages (from ipython>=1.0->ipython-sql) (4.4.1)',\n",
       " 'Requirement already satisfied: traitlets>=4.2 in c:\\\\users\\\\15146\\\\anaconda3\\\\lib\\\\site-packages (from ipython>=1.0->ipython-sql) (4.3.3)',\n",
       " 'Requirement already satisfied: wcwidth in c:\\\\users\\\\15146\\\\anaconda3\\\\lib\\\\site-packages (from prompt-toolkit!=3.0.0,!=3.0.1,<3.1.0,>=2.0.0->ipython>=1.0->ipython-sql) (0.1.8)',\n",
       " 'Requirement already satisfied: parso>=0.5.0 in c:\\\\users\\\\15146\\\\anaconda3\\\\lib\\\\site-packages (from jedi>=0.10->ipython>=1.0->ipython-sql) (0.5.2)']"
      ]
     },
     "execution_count": 47,
     "metadata": {},
     "output_type": "execute_result"
    }
   ],
   "source": [
    "get_ipython().run_cell_magic('!', '', 'pip install --trusted-host pypi.org ipython-sql')"
   ]
  },
  {
   "cell_type": "code",
   "execution_count": 48,
   "metadata": {},
   "outputs": [],
   "source": [
    "get_ipython().run_line_magic('load_ext', 'sql')\n"
   ]
  },
  {
   "cell_type": "code",
   "execution_count": 50,
   "metadata": {},
   "outputs": [],
   "source": [
    "get_ipython().run_line_magic('sql', 'sqlite://')\n"
   ]
  },
  {
   "cell_type": "code",
   "execution_count": 51,
   "metadata": {},
   "outputs": [
    {
     "name": "stdout",
     "output_type": "stream",
     "text": [
      " * sqlite://\n",
      "Done.\n",
      "1 rows affected.\n",
      "1 rows affected.\n",
      "1 rows affected.\n",
      "1 rows affected.\n",
      "1 rows affected.\n",
      "1 rows affected.\n",
      "1 rows affected.\n",
      "1 rows affected.\n",
      "1 rows affected.\n",
      "1 rows affected.\n",
      "1 rows affected.\n",
      "1 rows affected.\n"
     ]
    },
    {
     "data": {
      "text/plain": [
       "[]"
      ]
     },
     "execution_count": 51,
     "metadata": {},
     "output_type": "execute_result"
    }
   ],
   "source": [
    "get_ipython().run_cell_magic('sql', '', \"CREATE TABLE WEATHER(City varchar(50),Country varchar(50), Season VARCHAR(50), Temperature float, Rainfall float);\\nINSERT INTO WEATHER VALUES('Mumbai','India', 'Winter', 24.8, 5.9);\\nINSERT INTO WEATHER VALUES('Mumbai','India', 'Spring', 28.4, 16.2);\\nINSERT INTO WEATHER VALUES('Mumbai','India', 'Summer', 27.9, 1549.4);\\nINSERT INTO WEATHER VALUES('Mumbai','India', 'Fall', 27.6, 346.0);\\nINSERT INTO WEATHER VALUES('London','United Kingdom', 'Winter', 4.2, 207.7);\\nINSERT INTO WEATHER VALUES('London','United Kingdom', 'Spring', 8.3, 169.6);\\nINSERT INTO WEATHER VALUES('London','United Kingdom', 'Summer', 15.7, 157.0);\\nINSERT INTO WEATHER VALUES('London','United Kingdom', 'Fall', 10.4, 218.5);\\nINSERT INTO WEATHER VALUES('Cairo','Egypt', 'Winter', 13.6, 16.5);\\nINSERT INTO WEATHER VALUES('Cairo','Egypt', 'Spring', 20.7, 6.5);\\nINSERT INTO WEATHER VALUES('Cairo','Egypt', 'Summer', 27.7, 0.1);\\nINSERT INTO WEATHER VALUES('Cairo','Egypt', 'Fall', 22.2, 4.5);\")"
   ]
  },
  {
   "cell_type": "markdown",
   "metadata": {},
   "source": [
    "a) All the temperature data"
   ]
  },
  {
   "cell_type": "code",
   "execution_count": 53,
   "metadata": {},
   "outputs": [
    {
     "name": "stdout",
     "output_type": "stream",
     "text": [
      " * sqlite://\n",
      "Done.\n"
     ]
    },
    {
     "data": {
      "text/html": [
       "<table>\n",
       "    <tr>\n",
       "        <th>City</th>\n",
       "    </tr>\n",
       "    <tr>\n",
       "        <td>Mumbai</td>\n",
       "    </tr>\n",
       "    <tr>\n",
       "        <td>London</td>\n",
       "    </tr>\n",
       "    <tr>\n",
       "        <td>Cairo</td>\n",
       "    </tr>\n",
       "</table>"
      ],
      "text/plain": [
       "[('Mumbai',), ('London',), ('Cairo',)]"
      ]
     },
     "execution_count": 53,
     "metadata": {},
     "output_type": "execute_result"
    }
   ],
   "source": [
    "get_ipython().run_cell_magic('sql', '', 'SELECT Temperature from WEATHER;')"
   ]
  },
  {
   "cell_type": "markdown",
   "metadata": {},
   "source": [
    "b) All the cities, but without repetition."
   ]
  },
  {
   "cell_type": "code",
   "execution_count": 62,
   "metadata": {},
   "outputs": [
    {
     "name": "stdout",
     "output_type": "stream",
     "text": [
      " * sqlite://\n",
      "Done.\n"
     ]
    },
    {
     "data": {
      "text/html": [
       "<table>\n",
       "    <tr>\n",
       "        <th>City</th>\n",
       "    </tr>\n",
       "    <tr>\n",
       "        <td>Mumbai</td>\n",
       "    </tr>\n",
       "    <tr>\n",
       "        <td>London</td>\n",
       "    </tr>\n",
       "    <tr>\n",
       "        <td>Cairo</td>\n",
       "    </tr>\n",
       "</table>"
      ],
      "text/plain": [
       "[('Mumbai',), ('London',), ('Cairo',)]"
      ]
     },
     "execution_count": 62,
     "metadata": {},
     "output_type": "execute_result"
    }
   ],
   "source": [
    "get_ipython().run_cell_magic('sql', '', 'SELECT DISTINCT City from WEATHER;')\n"
   ]
  },
  {
   "cell_type": "markdown",
   "metadata": {},
   "source": [
    "c) All the records for India.\n"
   ]
  },
  {
   "cell_type": "code",
   "execution_count": 63,
   "metadata": {},
   "outputs": [
    {
     "name": "stdout",
     "output_type": "stream",
     "text": [
      " * sqlite://\n",
      "Done.\n"
     ]
    },
    {
     "data": {
      "text/html": [
       "<table>\n",
       "    <tr>\n",
       "        <th>City</th>\n",
       "        <th>Country</th>\n",
       "        <th>Season</th>\n",
       "        <th>Temperature</th>\n",
       "        <th>Rainfall</th>\n",
       "    </tr>\n",
       "    <tr>\n",
       "        <td>Mumbai</td>\n",
       "        <td>India</td>\n",
       "        <td>Winter</td>\n",
       "        <td>24.8</td>\n",
       "        <td>5.9</td>\n",
       "    </tr>\n",
       "    <tr>\n",
       "        <td>Mumbai</td>\n",
       "        <td>India</td>\n",
       "        <td>Spring</td>\n",
       "        <td>28.4</td>\n",
       "        <td>16.2</td>\n",
       "    </tr>\n",
       "    <tr>\n",
       "        <td>Mumbai</td>\n",
       "        <td>India</td>\n",
       "        <td>Summer</td>\n",
       "        <td>27.9</td>\n",
       "        <td>1549.4</td>\n",
       "    </tr>\n",
       "    <tr>\n",
       "        <td>Mumbai</td>\n",
       "        <td>India</td>\n",
       "        <td>Fall</td>\n",
       "        <td>27.6</td>\n",
       "        <td>346.0</td>\n",
       "    </tr>\n",
       "</table>"
      ],
      "text/plain": [
       "[('Mumbai', 'India', 'Winter', 24.8, 5.9),\n",
       " ('Mumbai', 'India', 'Spring', 28.4, 16.2),\n",
       " ('Mumbai', 'India', 'Summer', 27.9, 1549.4),\n",
       " ('Mumbai', 'India', 'Fall', 27.6, 346.0)]"
      ]
     },
     "execution_count": 63,
     "metadata": {},
     "output_type": "execute_result"
    }
   ],
   "source": [
    "get_ipython().run_cell_magic('sql', '', \"SELECT  * from WEATHER WHERE Country='India';\")\n"
   ]
  },
  {
   "cell_type": "markdown",
   "metadata": {},
   "source": [
    "d) All the Fall records.\n"
   ]
  },
  {
   "cell_type": "code",
   "execution_count": 64,
   "metadata": {},
   "outputs": [
    {
     "name": "stdout",
     "output_type": "stream",
     "text": [
      " * sqlite://\n",
      "Done.\n"
     ]
    },
    {
     "data": {
      "text/html": [
       "<table>\n",
       "    <tr>\n",
       "        <th>City</th>\n",
       "        <th>Country</th>\n",
       "        <th>Season</th>\n",
       "        <th>Temperature</th>\n",
       "        <th>Rainfall</th>\n",
       "    </tr>\n",
       "    <tr>\n",
       "        <td>Mumbai</td>\n",
       "        <td>India</td>\n",
       "        <td>Fall</td>\n",
       "        <td>27.6</td>\n",
       "        <td>346.0</td>\n",
       "    </tr>\n",
       "    <tr>\n",
       "        <td>London</td>\n",
       "        <td>United Kingdom</td>\n",
       "        <td>Fall</td>\n",
       "        <td>10.4</td>\n",
       "        <td>218.5</td>\n",
       "    </tr>\n",
       "    <tr>\n",
       "        <td>Cairo</td>\n",
       "        <td>Egypt</td>\n",
       "        <td>Fall</td>\n",
       "        <td>22.2</td>\n",
       "        <td>4.5</td>\n",
       "    </tr>\n",
       "</table>"
      ],
      "text/plain": [
       "[('Mumbai', 'India', 'Fall', 27.6, 346.0),\n",
       " ('London', 'United Kingdom', 'Fall', 10.4, 218.5),\n",
       " ('Cairo', 'Egypt', 'Fall', 22.2, 4.5)]"
      ]
     },
     "execution_count": 64,
     "metadata": {},
     "output_type": "execute_result"
    }
   ],
   "source": [
    "get_ipython().run_cell_magic('sql', '', \"SELECT  * from WEATHER WHERE Season='Fall';\")\n"
   ]
  },
  {
   "cell_type": "markdown",
   "metadata": {},
   "source": [
    "e) The city, country, and season for which the average rainfall is between 200\n",
    "and 400 millimeters."
   ]
  },
  {
   "cell_type": "code",
   "execution_count": 66,
   "metadata": {},
   "outputs": [
    {
     "name": "stdout",
     "output_type": "stream",
     "text": [
      " * sqlite://\n",
      "Done.\n",
      "(sqlite3.OperationalError) near \"WHERE\": syntax error\n",
      "[SQL: WHERE Rainfall >= '200' \n",
      "AND rainfall <= '400';]\n",
      "(Background on this error at: http://sqlalche.me/e/e3q8)\n"
     ]
    }
   ],
   "source": [
    "get_ipython().run_cell_magic('sql', '', \"SELECT  City, Country, Season\\nfrom WEATHER \\nWHERE  Rainfall > 400 AND Rainfall < 200;\\nWHERE Rainfall >= '200' \\nAND rainfall <= '400';\\n\")"
   ]
  },
  {
   "cell_type": "markdown",
   "metadata": {},
   "source": [
    "f) The city and country for which the average Fall temperature is above 20\n",
    "degrees, in increasing temperature order."
   ]
  },
  {
   "cell_type": "code",
   "execution_count": 67,
   "metadata": {},
   "outputs": [
    {
     "name": "stdout",
     "output_type": "stream",
     "text": [
      " * sqlite://\n",
      "Done.\n"
     ]
    },
    {
     "data": {
      "text/html": [
       "<table>\n",
       "    <tr>\n",
       "        <th>City</th>\n",
       "        <th>Country</th>\n",
       "    </tr>\n",
       "    <tr>\n",
       "        <td>Cairo</td>\n",
       "        <td>Egypt</td>\n",
       "    </tr>\n",
       "    <tr>\n",
       "        <td>Cairo</td>\n",
       "        <td>Egypt</td>\n",
       "    </tr>\n",
       "    <tr>\n",
       "        <td>Mumbai</td>\n",
       "        <td>India</td>\n",
       "    </tr>\n",
       "    <tr>\n",
       "        <td>Mumbai</td>\n",
       "        <td>India</td>\n",
       "    </tr>\n",
       "    <tr>\n",
       "        <td>Cairo</td>\n",
       "        <td>Egypt</td>\n",
       "    </tr>\n",
       "    <tr>\n",
       "        <td>Mumbai</td>\n",
       "        <td>India</td>\n",
       "    </tr>\n",
       "    <tr>\n",
       "        <td>Mumbai</td>\n",
       "        <td>India</td>\n",
       "    </tr>\n",
       "</table>"
      ],
      "text/plain": [
       "[('Cairo', 'Egypt'),\n",
       " ('Cairo', 'Egypt'),\n",
       " ('Mumbai', 'India'),\n",
       " ('Mumbai', 'India'),\n",
       " ('Cairo', 'Egypt'),\n",
       " ('Mumbai', 'India'),\n",
       " ('Mumbai', 'India')]"
      ]
     },
     "execution_count": 67,
     "metadata": {},
     "output_type": "execute_result"
    }
   ],
   "source": [
    "get_ipython().run_cell_magic('sql', '', \"\\nSELECT  City, Country\\nfrom WEATHER\\nWHERE Temperature >= '20'\\nORDER by Temperature ASC;\")\n"
   ]
  },
  {
   "cell_type": "markdown",
   "metadata": {},
   "source": [
    "g) The total annual rainfall for Cairo.\n"
   ]
  },
  {
   "cell_type": "code",
   "execution_count": 68,
   "metadata": {},
   "outputs": [
    {
     "name": "stdout",
     "output_type": "stream",
     "text": [
      " * sqlite://\n",
      "Done.\n"
     ]
    },
    {
     "data": {
      "text/html": [
       "<table>\n",
       "    <tr>\n",
       "        <th>SUM(Rainfall)</th>\n",
       "    </tr>\n",
       "    <tr>\n",
       "        <td>27.6</td>\n",
       "    </tr>\n",
       "</table>"
      ],
      "text/plain": [
       "[(27.6,)]"
      ]
     },
     "execution_count": 68,
     "metadata": {},
     "output_type": "execute_result"
    }
   ],
   "source": [
    "get_ipython().run_cell_magic('sql', '', \"SELECT SUM(Rainfall)\\nFROM WEATHER\\nWHERE City='Cairo';\")\n"
   ]
  },
  {
   "cell_type": "markdown",
   "metadata": {},
   "source": [
    "h) The total rainfall for each season.\n"
   ]
  },
  {
   "cell_type": "code",
   "execution_count": 69,
   "metadata": {},
   "outputs": [
    {
     "name": "stdout",
     "output_type": "stream",
     "text": [
      " * sqlite://\n",
      "Done.\n"
     ]
    },
    {
     "data": {
      "text/html": [
       "<table>\n",
       "    <tr>\n",
       "        <th>Season</th>\n",
       "        <th>SUM(Rainfall)</th>\n",
       "    </tr>\n",
       "    <tr>\n",
       "        <td>Fall</td>\n",
       "        <td>569.0</td>\n",
       "    </tr>\n",
       "    <tr>\n",
       "        <td>Spring</td>\n",
       "        <td>192.29999999999998</td>\n",
       "    </tr>\n",
       "    <tr>\n",
       "        <td>Summer</td>\n",
       "        <td>1706.5</td>\n",
       "    </tr>\n",
       "    <tr>\n",
       "        <td>Winter</td>\n",
       "        <td>230.1</td>\n",
       "    </tr>\n",
       "</table>"
      ],
      "text/plain": [
       "[('Fall', 569.0),\n",
       " ('Spring', 192.29999999999998),\n",
       " ('Summer', 1706.5),\n",
       " ('Winter', 230.1)]"
      ]
     },
     "execution_count": 69,
     "metadata": {},
     "output_type": "execute_result"
    }
   ],
   "source": [
    "get_ipython().run_cell_magic('sql', '', '\\n\\nSELECT Season, SUM(Rainfall)\\nFROM WEATHER\\nGROUP BY Season;')\n"
   ]
  },
  {
   "cell_type": "markdown",
   "metadata": {},
   "source": [
    "#Question:10"
   ]
  },
  {
   "cell_type": "code",
   "execution_count": 32,
   "metadata": {},
   "outputs": [
    {
     "name": "stdout",
     "output_type": "stream",
     "text": [
      "a) ['THE', 'QUICK', 'BROWN', 'FOX', 'JUMPS', 'OVER', 'THE', 'LAZY', 'DOG']\n",
      "b) ['the', 'quick', 'brown', 'fox', 'jumps', 'over', 'the', 'lazy', 'dog']\n",
      "c) [3, 5, 5, 3, 5, 4, 3, 4, 3]\n",
      "d) [['THE', 'the', 3], ['QUICK', 'quick', 5], ['BROWN', 'brown', 5], ['FOX', 'fox', 3], ['JUMPS', 'jumps', 5], ['OVER', 'over', 4], ['THE', 'the', 3], ['LAZY', 'lazy', 4], ['DOG', 'dog', 3]]\n",
      "e) ['quick', 'brown', 'jumps', 'over', 'lazy']\n"
     ]
    }
   ],
   "source": [
    "words = ['The', 'quick', 'brown', 'fox', 'jumps', 'over', 'the', 'lazy', 'dog']\n",
    "\n",
    "upper_list = [w.upper() for w in words]\n",
    "print(\"a)\",upper_list)\n",
    "lower_list = [w.lower() for w in words]\n",
    "print(\"b)\",lower_list)\n",
    "length_list = [len(w) for w in words]\n",
    "print(\"c)\",length_list)\n",
    "mix_list = [[w.upper(), w.lower(), len(w)] for w in words]\n",
    "print(\"d)\",mix_list)\n",
    "conditional_list = [w for w in words if len(w)>=4]\n",
    "print(\"e)\",conditional_list)"
   ]
  }
 ],
 "metadata": {
  "kernelspec": {
   "display_name": "Python 3",
   "language": "python",
   "name": "python3"
  },
  "language_info": {
   "codemirror_mode": {
    "name": "ipython",
    "version": 3
   },
   "file_extension": ".py",
   "mimetype": "text/x-python",
   "name": "python",
   "nbconvert_exporter": "python",
   "pygments_lexer": "ipython3",
   "version": "3.7.6"
  }
 },
 "nbformat": 4,
 "nbformat_minor": 4
}
